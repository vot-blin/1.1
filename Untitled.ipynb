{
 "cells": [
  {
   "cell_type": "code",
   "execution_count": 18,
   "id": "34a0a3e2-0a58-4823-a48a-5ec8f54cf17c",
   "metadata": {},
   "outputs": [
    {
     "name": "stdout",
     "output_type": "stream",
     "text": [
      "   PassengerId  Pclass                                          Name Sex  \\\n",
      "0          892       3                              Kelly, Mr. James   0   \n",
      "1          893       3              Wilkes, Mrs. James (Ellen Needs)   1   \n",
      "2          894       3                     Myles, Mr. Thomas Francis   0   \n",
      "3          895       3                              Wirz, Mr. Albert   0   \n",
      "4          896       3  Hirvonen, Mrs. Alexander (Helga E Lindqvist)   1   \n",
      "5          897       3                    Svensson, Mr. Johan Cervin   0   \n",
      "6          898       3                          Connolly, Miss. Kate   1   \n",
      "7          899       3                  Caldwell, Mr. Albert Francis   0   \n",
      "8          900       3     Abrahim, Mrs. Joseph (Sophie Halaut Easu)   1   \n",
      "9          901       3                       Davies, Mr. John Samuel   0   \n",
      "\n",
      "    Age  SibSp  Parch     Ticket     Fare Cabin Embarked  \n",
      "0  34.5      0      0     330911   7.8292   NaN        Q  \n",
      "1  47.0      1      0     363272   7.0000   NaN        S  \n",
      "2  62.0      0      0     240276   9.6875   NaN        Q  \n",
      "3  27.0      0      0     315154   8.6625   NaN        S  \n",
      "4  22.0      1      1    3101298  12.2875   NaN        S  \n",
      "5  14.0      0      0       7538   9.2250   NaN        S  \n",
      "6  30.0      0      0     330972   7.6292   NaN        Q  \n",
      "7  26.0      1      1     248738  29.0000   NaN        S  \n",
      "8  18.0      0      0       2657   7.2292   NaN        C  \n",
      "9  21.0      2      0  A/4 48871  24.1500   NaN        S  \n"
     ]
    }
   ],
   "source": [
    "import pandas as pd\n",
    "import matplotlib.pyplot as plt\n",
    "import seaborn as sns\n",
    "test = pd.read_csv('C:\\\\Users\\\\User\\\\Downloads\\\\Telegram Desktop\\\\test.csv')\n",
    "test.loc[0, 'Sex'] = 0 #male it is 0\n",
    "test.loc[1, 'Sex'] = 1 #female it is 1\n",
    "test.loc[2, 'Sex'] = 0\n",
    "test.loc[3, 'Sex'] = 0\n",
    "test.loc[4, 'Sex'] = 1\n",
    "test.loc[5, 'Sex'] = 0\n",
    "test.loc[6, 'Sex'] = 1\n",
    "test.loc[7, 'Sex'] = 0\n",
    "test.loc[8, 'Sex'] = 1\n",
    "test.loc[9, 'Sex'] = 0\n",
    "x = test[\"Pclass\"].median()\n",
    "test[\"Pclass\"].fillna(x, inplace = True)\n",
    "test.loc[0, 'Pclass'] = x\n",
    "test.loc[1, 'Pclass'] = x\n",
    "test.loc[2, 'Pclass'] = x\n",
    "test.loc[3, 'Pclass'] = x\n",
    "test.loc[4, 'Pclass'] = x\n",
    "test.loc[5, 'Pclass'] = x\n",
    "test.loc[6, 'Pclass'] = x\n",
    "test.loc[7, 'Pclass'] = x\n",
    "test.loc[8, 'Pclass'] = x\n",
    "test.loc[9, 'Pclass'] = x\n",
    "print(test.head(10))"
   ]
  },
  {
   "cell_type": "code",
   "execution_count": null,
   "id": "c49cbb20-41c0-4ec3-a8ec-ef52bcd22c87",
   "metadata": {},
   "outputs": [],
   "source": []
  },
  {
   "cell_type": "code",
   "execution_count": null,
   "id": "beda12e9-3c88-4438-b2d2-29ef2774565a",
   "metadata": {},
   "outputs": [],
   "source": []
  }
 ],
 "metadata": {
  "kernelspec": {
   "display_name": "Python 3 (ipykernel)",
   "language": "python",
   "name": "python3"
  },
  "language_info": {
   "codemirror_mode": {
    "name": "ipython",
    "version": 3
   },
   "file_extension": ".py",
   "mimetype": "text/x-python",
   "name": "python",
   "nbconvert_exporter": "python",
   "pygments_lexer": "ipython3",
   "version": "3.11.7"
  }
 },
 "nbformat": 4,
 "nbformat_minor": 5
}
